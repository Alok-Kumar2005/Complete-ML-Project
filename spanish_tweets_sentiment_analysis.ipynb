{
  "cells": [
    {
      "cell_type": "markdown",
      "metadata": {
        "id": "view-in-github",
        "colab_type": "text"
      },
      "source": [
        "<a href=\"https://colab.research.google.com/github/Alok-Kumar2005/Complete-ML-Project/blob/main/spanish_tweets_sentiment_analysis.ipynb\" target=\"_parent\"><img src=\"https://colab.research.google.com/assets/colab-badge.svg\" alt=\"Open In Colab\"/></a>"
      ]
    },
    {
      "cell_type": "markdown",
      "id": "1f152a66",
      "metadata": {
        "papermill": {
          "duration": 0.010015,
          "end_time": "2024-08-04T09:39:27.263208",
          "exception": false,
          "start_time": "2024-08-04T09:39:27.253193",
          "status": "completed"
        },
        "tags": [],
        "id": "1f152a66"
      },
      "source": [
        "---"
      ]
    },
    {
      "cell_type": "code",
      "execution_count": null,
      "id": "98ce7c89",
      "metadata": {
        "execution": {
          "iopub.execute_input": "2024-08-04T09:39:27.286181Z",
          "iopub.status.busy": "2024-08-04T09:39:27.285745Z",
          "iopub.status.idle": "2024-08-04T09:39:28.227325Z",
          "shell.execute_reply": "2024-08-04T09:39:28.226108Z"
        },
        "papermill": {
          "duration": 0.956505,
          "end_time": "2024-08-04T09:39:28.230118",
          "exception": false,
          "start_time": "2024-08-04T09:39:27.273613",
          "status": "completed"
        },
        "tags": [],
        "id": "98ce7c89"
      },
      "outputs": [],
      "source": [
        "import pandas as pd\n",
        "import numpy as np\n"
      ]
    },
    {
      "cell_type": "code",
      "execution_count": null,
      "id": "2e80190f",
      "metadata": {
        "execution": {
          "iopub.execute_input": "2024-08-04T09:39:28.253290Z",
          "iopub.status.busy": "2024-08-04T09:39:28.252123Z",
          "iopub.status.idle": "2024-08-04T09:39:28.327138Z",
          "shell.execute_reply": "2024-08-04T09:39:28.325953Z"
        },
        "papermill": {
          "duration": 0.089756,
          "end_time": "2024-08-04T09:39:28.329930",
          "exception": false,
          "start_time": "2024-08-04T09:39:28.240174",
          "status": "completed"
        },
        "scrolled": true,
        "tags": [],
        "id": "2e80190f",
        "outputId": "4f11566b-0d97-42a0-848b-265193c2fb69"
      },
      "outputs": [
        {
          "data": {
            "text/html": [
              "<div>\n",
              "<style scoped>\n",
              "    .dataframe tbody tr th:only-of-type {\n",
              "        vertical-align: middle;\n",
              "    }\n",
              "\n",
              "    .dataframe tbody tr th {\n",
              "        vertical-align: top;\n",
              "    }\n",
              "\n",
              "    .dataframe thead th {\n",
              "        text-align: right;\n",
              "    }\n",
              "</style>\n",
              "<table border=\"1\" class=\"dataframe\">\n",
              "  <thead>\n",
              "    <tr style=\"text-align: right;\">\n",
              "      <th></th>\n",
              "      <th>user</th>\n",
              "      <th>text</th>\n",
              "      <th>date</th>\n",
              "      <th>emotion</th>\n",
              "      <th>sentiment</th>\n",
              "    </tr>\n",
              "  </thead>\n",
              "  <tbody>\n",
              "    <tr>\n",
              "      <th>0</th>\n",
              "      <td>@erreborda</td>\n",
              "      <td>termine bien abrumado después de hoy</td>\n",
              "      <td>Jan 6, 2024 · 2:53 AM UTC</td>\n",
              "      <td>overwhelmed</td>\n",
              "      <td>scared</td>\n",
              "    </tr>\n",
              "    <tr>\n",
              "      <th>1</th>\n",
              "      <td>@shpiderduck</td>\n",
              "      <td>me siento abrumado</td>\n",
              "      <td>Jan 6, 2024 · 2:35 AM UTC</td>\n",
              "      <td>overwhelmed</td>\n",
              "      <td>scared</td>\n",
              "    </tr>\n",
              "    <tr>\n",
              "      <th>2</th>\n",
              "      <td>@Alex_R_art</td>\n",
              "      <td>Me siento un poco abrumado por la cantidad de ...</td>\n",
              "      <td>Jan 6, 2024 · 12:20 AM UTC</td>\n",
              "      <td>overwhelmed</td>\n",
              "      <td>scared</td>\n",
              "    </tr>\n",
              "    <tr>\n",
              "      <th>3</th>\n",
              "      <td>@anggelinaa97</td>\n",
              "      <td>Salvador la única persona que no la ha abrumad...</td>\n",
              "      <td>Jan 5, 2024 · 10:38 PM UTC</td>\n",
              "      <td>overwhelmed</td>\n",
              "      <td>scared</td>\n",
              "    </tr>\n",
              "    <tr>\n",
              "      <th>4</th>\n",
              "      <td>@diegoreyesvqz</td>\n",
              "      <td>Denme un helado o algo que ando full abrumado.</td>\n",
              "      <td>Jan 5, 2024 · 8:38 PM UTC</td>\n",
              "      <td>overwhelmed</td>\n",
              "      <td>scared</td>\n",
              "    </tr>\n",
              "    <tr>\n",
              "      <th>...</th>\n",
              "      <td>...</td>\n",
              "      <td>...</td>\n",
              "      <td>...</td>\n",
              "      <td>...</td>\n",
              "      <td>...</td>\n",
              "    </tr>\n",
              "    <tr>\n",
              "      <th>2585</th>\n",
              "      <td>@lavivianaleyva</td>\n",
              "      <td>No podemos vivir con miedo:   ¡Manejen borrach...</td>\n",
              "      <td>Jan 6, 2024 · 3:08 AM UTC</td>\n",
              "      <td>daring</td>\n",
              "      <td>joyful</td>\n",
              "    </tr>\n",
              "    <tr>\n",
              "      <th>2586</th>\n",
              "      <td>@Carmeen_Alicia</td>\n",
              "      <td>La vida es un constante, SIN MIEDO AL ÉXITO 💅🏼</td>\n",
              "      <td>Jan 6, 2024 · 3:07 AM UTC</td>\n",
              "      <td>daring</td>\n",
              "      <td>joyful</td>\n",
              "    </tr>\n",
              "    <tr>\n",
              "      <th>2587</th>\n",
              "      <td>@homicidios_</td>\n",
              "      <td>Esquizofrenia = mente dividida: Miedo a las re...</td>\n",
              "      <td>Jan 6, 2024 · 2:59 AM UTC</td>\n",
              "      <td>daring</td>\n",
              "      <td>joyful</td>\n",
              "    </tr>\n",
              "    <tr>\n",
              "      <th>2588</th>\n",
              "      <td>@brigethcoba</td>\n",
              "      <td>\"Lo que más miedo me da, es ver cómo desaparec...</td>\n",
              "      <td>Jan 6, 2024 · 2:55 AM UTC</td>\n",
              "      <td>daring</td>\n",
              "      <td>joyful</td>\n",
              "    </tr>\n",
              "    <tr>\n",
              "      <th>2589</th>\n",
              "      <td>@nanyfrias11</td>\n",
              "      <td>Saltando de apoco ala pile sin agua xd sin mie...</td>\n",
              "      <td>Jan 6, 2024 · 2:54 AM UTC</td>\n",
              "      <td>daring</td>\n",
              "      <td>joyful</td>\n",
              "    </tr>\n",
              "  </tbody>\n",
              "</table>\n",
              "<p>2590 rows × 5 columns</p>\n",
              "</div>"
            ],
            "text/plain": [
              "                 user                                               text  \\\n",
              "0          @erreborda               termine bien abrumado después de hoy   \n",
              "1        @shpiderduck                                 me siento abrumado   \n",
              "2         @Alex_R_art  Me siento un poco abrumado por la cantidad de ...   \n",
              "3       @anggelinaa97  Salvador la única persona que no la ha abrumad...   \n",
              "4      @diegoreyesvqz     Denme un helado o algo que ando full abrumado.   \n",
              "...               ...                                                ...   \n",
              "2585  @lavivianaleyva  No podemos vivir con miedo:   ¡Manejen borrach...   \n",
              "2586  @Carmeen_Alicia     La vida es un constante, SIN MIEDO AL ÉXITO 💅🏼   \n",
              "2587     @homicidios_  Esquizofrenia = mente dividida: Miedo a las re...   \n",
              "2588     @brigethcoba  \"Lo que más miedo me da, es ver cómo desaparec...   \n",
              "2589     @nanyfrias11  Saltando de apoco ala pile sin agua xd sin mie...   \n",
              "\n",
              "                            date      emotion sentiment  \n",
              "0      Jan 6, 2024 · 2:53 AM UTC  overwhelmed    scared  \n",
              "1      Jan 6, 2024 · 2:35 AM UTC  overwhelmed    scared  \n",
              "2     Jan 6, 2024 · 12:20 AM UTC  overwhelmed    scared  \n",
              "3     Jan 5, 2024 · 10:38 PM UTC  overwhelmed    scared  \n",
              "4      Jan 5, 2024 · 8:38 PM UTC  overwhelmed    scared  \n",
              "...                          ...          ...       ...  \n",
              "2585   Jan 6, 2024 · 3:08 AM UTC       daring    joyful  \n",
              "2586   Jan 6, 2024 · 3:07 AM UTC       daring    joyful  \n",
              "2587   Jan 6, 2024 · 2:59 AM UTC       daring    joyful  \n",
              "2588   Jan 6, 2024 · 2:55 AM UTC       daring    joyful  \n",
              "2589   Jan 6, 2024 · 2:54 AM UTC       daring    joyful  \n",
              "\n",
              "[2590 rows x 5 columns]"
            ]
          },
          "execution_count": 2,
          "metadata": {},
          "output_type": "execute_result"
        }
      ],
      "source": [
        "sentiment_dataframe = pd.read_csv(\"/kaggle/input/sentiment-analysis-in-spanish-tweets/sentiment_analysis_dataset.csv\")\n",
        "sentiment_dataframe"
      ]
    },
    {
      "cell_type": "code",
      "execution_count": null,
      "id": "72ea8c95",
      "metadata": {
        "execution": {
          "iopub.execute_input": "2024-08-04T09:39:28.352874Z",
          "iopub.status.busy": "2024-08-04T09:39:28.351693Z",
          "iopub.status.idle": "2024-08-04T09:39:28.360622Z",
          "shell.execute_reply": "2024-08-04T09:39:28.359294Z"
        },
        "papermill": {
          "duration": 0.023234,
          "end_time": "2024-08-04T09:39:28.363344",
          "exception": false,
          "start_time": "2024-08-04T09:39:28.340110",
          "status": "completed"
        },
        "tags": [],
        "id": "72ea8c95",
        "outputId": "934c9f39-51f7-442c-8684-43838a3051f7"
      },
      "outputs": [
        {
          "data": {
            "text/plain": [
              "(2590, 5)"
            ]
          },
          "execution_count": 3,
          "metadata": {},
          "output_type": "execute_result"
        }
      ],
      "source": [
        "sentiment_dataframe.shape"
      ]
    },
    {
      "cell_type": "code",
      "execution_count": null,
      "id": "97173844",
      "metadata": {
        "execution": {
          "iopub.execute_input": "2024-08-04T09:39:28.386247Z",
          "iopub.status.busy": "2024-08-04T09:39:28.385787Z",
          "iopub.status.idle": "2024-08-04T09:39:28.394150Z",
          "shell.execute_reply": "2024-08-04T09:39:28.392830Z"
        },
        "papermill": {
          "duration": 0.023308,
          "end_time": "2024-08-04T09:39:28.397159",
          "exception": false,
          "start_time": "2024-08-04T09:39:28.373851",
          "status": "completed"
        },
        "tags": [],
        "id": "97173844"
      },
      "outputs": [],
      "source": [
        "translation = {\n",
        "    'joyful': 'Felicidad',\n",
        "    'daring': 'Atrevimiento',\n",
        "    'optimistic': 'Optimista',\n",
        "    'playful': 'Jugueton',\n",
        "\n",
        "    'powerful': 'Empoderado',\n",
        "    'surprised': 'Sorpresa',\n",
        "    'successful': 'Triunfo',\n",
        "    'confident': 'Confiado',\n",
        "\n",
        "    'peaceful': 'Paz',\n",
        "    'secure': 'Seguro',\n",
        "    'thankful': 'Agradecido',\n",
        "    'loving': 'Enamorado',\n",
        "    'relaxed': 'Relajado',\n",
        "    'responsive': 'Responsable',\n",
        "\n",
        "    'sad': 'Tristeza',\n",
        "    'sleepy': 'Adormilado',\n",
        "    'isolated': 'Aislado',\n",
        "    'stupid': 'Tomto ;B',\n",
        "\n",
        "    'mad': 'Furia',\n",
        "    'distant': 'Distante',\n",
        "    'frustrated': 'Frustrado',\n",
        "    'irritated': 'Irritado',\n",
        "    'jealous': 'Celoso',\n",
        "\n",
        "    'scared': 'Miedo',\n",
        "    'embarrassed': 'Apenado',\n",
        "    'overwhelmed': 'Preocupado',\n",
        "\n",
        "}"
      ]
    },
    {
      "cell_type": "code",
      "execution_count": null,
      "id": "a41061ea",
      "metadata": {
        "execution": {
          "iopub.execute_input": "2024-08-04T09:39:28.422107Z",
          "iopub.status.busy": "2024-08-04T09:39:28.420724Z",
          "iopub.status.idle": "2024-08-04T09:39:28.463145Z",
          "shell.execute_reply": "2024-08-04T09:39:28.461949Z"
        },
        "papermill": {
          "duration": 0.057224,
          "end_time": "2024-08-04T09:39:28.465761",
          "exception": false,
          "start_time": "2024-08-04T09:39:28.408537",
          "status": "completed"
        },
        "tags": [],
        "id": "a41061ea",
        "outputId": "042d55d8-d90b-4803-df21-ee3c801e99b9"
      },
      "outputs": [
        {
          "data": {
            "text/html": [
              "<div>\n",
              "<style scoped>\n",
              "    .dataframe tbody tr th:only-of-type {\n",
              "        vertical-align: middle;\n",
              "    }\n",
              "\n",
              "    .dataframe tbody tr th {\n",
              "        vertical-align: top;\n",
              "    }\n",
              "\n",
              "    .dataframe thead th {\n",
              "        text-align: right;\n",
              "    }\n",
              "</style>\n",
              "<table border=\"1\" class=\"dataframe\">\n",
              "  <thead>\n",
              "    <tr style=\"text-align: right;\">\n",
              "      <th></th>\n",
              "      <th>user</th>\n",
              "      <th>text</th>\n",
              "      <th>date</th>\n",
              "      <th>emotion</th>\n",
              "      <th>sentiment</th>\n",
              "    </tr>\n",
              "  </thead>\n",
              "  <tbody>\n",
              "    <tr>\n",
              "      <th>0</th>\n",
              "      <td>@erreborda</td>\n",
              "      <td>termine bien abrumado después de hoy</td>\n",
              "      <td>Jan 6, 2024 · 2:53 AM UTC</td>\n",
              "      <td>Preocupado</td>\n",
              "      <td>Miedo</td>\n",
              "    </tr>\n",
              "    <tr>\n",
              "      <th>1</th>\n",
              "      <td>@shpiderduck</td>\n",
              "      <td>me siento abrumado</td>\n",
              "      <td>Jan 6, 2024 · 2:35 AM UTC</td>\n",
              "      <td>Preocupado</td>\n",
              "      <td>Miedo</td>\n",
              "    </tr>\n",
              "    <tr>\n",
              "      <th>2</th>\n",
              "      <td>@Alex_R_art</td>\n",
              "      <td>Me siento un poco abrumado por la cantidad de ...</td>\n",
              "      <td>Jan 6, 2024 · 12:20 AM UTC</td>\n",
              "      <td>Preocupado</td>\n",
              "      <td>Miedo</td>\n",
              "    </tr>\n",
              "    <tr>\n",
              "      <th>3</th>\n",
              "      <td>@anggelinaa97</td>\n",
              "      <td>Salvador la única persona que no la ha abrumad...</td>\n",
              "      <td>Jan 5, 2024 · 10:38 PM UTC</td>\n",
              "      <td>Preocupado</td>\n",
              "      <td>Miedo</td>\n",
              "    </tr>\n",
              "    <tr>\n",
              "      <th>4</th>\n",
              "      <td>@diegoreyesvqz</td>\n",
              "      <td>Denme un helado o algo que ando full abrumado.</td>\n",
              "      <td>Jan 5, 2024 · 8:38 PM UTC</td>\n",
              "      <td>Preocupado</td>\n",
              "      <td>Miedo</td>\n",
              "    </tr>\n",
              "    <tr>\n",
              "      <th>...</th>\n",
              "      <td>...</td>\n",
              "      <td>...</td>\n",
              "      <td>...</td>\n",
              "      <td>...</td>\n",
              "      <td>...</td>\n",
              "    </tr>\n",
              "    <tr>\n",
              "      <th>2585</th>\n",
              "      <td>@lavivianaleyva</td>\n",
              "      <td>No podemos vivir con miedo:   ¡Manejen borrach...</td>\n",
              "      <td>Jan 6, 2024 · 3:08 AM UTC</td>\n",
              "      <td>Atrevimiento</td>\n",
              "      <td>Felicidad</td>\n",
              "    </tr>\n",
              "    <tr>\n",
              "      <th>2586</th>\n",
              "      <td>@Carmeen_Alicia</td>\n",
              "      <td>La vida es un constante, SIN MIEDO AL ÉXITO 💅🏼</td>\n",
              "      <td>Jan 6, 2024 · 3:07 AM UTC</td>\n",
              "      <td>Atrevimiento</td>\n",
              "      <td>Felicidad</td>\n",
              "    </tr>\n",
              "    <tr>\n",
              "      <th>2587</th>\n",
              "      <td>@homicidios_</td>\n",
              "      <td>Esquizofrenia = mente dividida: Miedo a las re...</td>\n",
              "      <td>Jan 6, 2024 · 2:59 AM UTC</td>\n",
              "      <td>Atrevimiento</td>\n",
              "      <td>Felicidad</td>\n",
              "    </tr>\n",
              "    <tr>\n",
              "      <th>2588</th>\n",
              "      <td>@brigethcoba</td>\n",
              "      <td>\"Lo que más miedo me da, es ver cómo desaparec...</td>\n",
              "      <td>Jan 6, 2024 · 2:55 AM UTC</td>\n",
              "      <td>Atrevimiento</td>\n",
              "      <td>Felicidad</td>\n",
              "    </tr>\n",
              "    <tr>\n",
              "      <th>2589</th>\n",
              "      <td>@nanyfrias11</td>\n",
              "      <td>Saltando de apoco ala pile sin agua xd sin mie...</td>\n",
              "      <td>Jan 6, 2024 · 2:54 AM UTC</td>\n",
              "      <td>Atrevimiento</td>\n",
              "      <td>Felicidad</td>\n",
              "    </tr>\n",
              "  </tbody>\n",
              "</table>\n",
              "<p>2590 rows × 5 columns</p>\n",
              "</div>"
            ],
            "text/plain": [
              "                 user                                               text  \\\n",
              "0          @erreborda               termine bien abrumado después de hoy   \n",
              "1        @shpiderduck                                 me siento abrumado   \n",
              "2         @Alex_R_art  Me siento un poco abrumado por la cantidad de ...   \n",
              "3       @anggelinaa97  Salvador la única persona que no la ha abrumad...   \n",
              "4      @diegoreyesvqz     Denme un helado o algo que ando full abrumado.   \n",
              "...               ...                                                ...   \n",
              "2585  @lavivianaleyva  No podemos vivir con miedo:   ¡Manejen borrach...   \n",
              "2586  @Carmeen_Alicia     La vida es un constante, SIN MIEDO AL ÉXITO 💅🏼   \n",
              "2587     @homicidios_  Esquizofrenia = mente dividida: Miedo a las re...   \n",
              "2588     @brigethcoba  \"Lo que más miedo me da, es ver cómo desaparec...   \n",
              "2589     @nanyfrias11  Saltando de apoco ala pile sin agua xd sin mie...   \n",
              "\n",
              "                            date       emotion  sentiment  \n",
              "0      Jan 6, 2024 · 2:53 AM UTC    Preocupado      Miedo  \n",
              "1      Jan 6, 2024 · 2:35 AM UTC    Preocupado      Miedo  \n",
              "2     Jan 6, 2024 · 12:20 AM UTC    Preocupado      Miedo  \n",
              "3     Jan 5, 2024 · 10:38 PM UTC    Preocupado      Miedo  \n",
              "4      Jan 5, 2024 · 8:38 PM UTC    Preocupado      Miedo  \n",
              "...                          ...           ...        ...  \n",
              "2585   Jan 6, 2024 · 3:08 AM UTC  Atrevimiento  Felicidad  \n",
              "2586   Jan 6, 2024 · 3:07 AM UTC  Atrevimiento  Felicidad  \n",
              "2587   Jan 6, 2024 · 2:59 AM UTC  Atrevimiento  Felicidad  \n",
              "2588   Jan 6, 2024 · 2:55 AM UTC  Atrevimiento  Felicidad  \n",
              "2589   Jan 6, 2024 · 2:54 AM UTC  Atrevimiento  Felicidad  \n",
              "\n",
              "[2590 rows x 5 columns]"
            ]
          },
          "execution_count": 5,
          "metadata": {},
          "output_type": "execute_result"
        }
      ],
      "source": [
        "sentiment_dataframe[['emotion', 'sentiment']] = sentiment_dataframe[['emotion', 'sentiment']].replace(to_replace = translation)\n",
        "sentiment_dataframe"
      ]
    },
    {
      "cell_type": "markdown",
      "id": "414331d3",
      "metadata": {
        "papermill": {
          "duration": 0.010436,
          "end_time": "2024-08-04T09:39:28.486947",
          "exception": false,
          "start_time": "2024-08-04T09:39:28.476511",
          "status": "completed"
        },
        "tags": [],
        "id": "414331d3"
      },
      "source": [
        "## Data Preparation and Model training"
      ]
    },
    {
      "cell_type": "code",
      "execution_count": null,
      "id": "5ee0a860",
      "metadata": {
        "execution": {
          "iopub.execute_input": "2024-08-04T09:39:28.510369Z",
          "iopub.status.busy": "2024-08-04T09:39:28.509932Z",
          "iopub.status.idle": "2024-08-04T09:39:30.523108Z",
          "shell.execute_reply": "2024-08-04T09:39:30.521805Z"
        },
        "papermill": {
          "duration": 2.028605,
          "end_time": "2024-08-04T09:39:30.526209",
          "exception": false,
          "start_time": "2024-08-04T09:39:28.497604",
          "status": "completed"
        },
        "tags": [],
        "id": "5ee0a860"
      },
      "outputs": [],
      "source": [
        "import seaborn as sn\n",
        "import matplotlib.pyplot as plt\n",
        "np.random.seed(73)\n",
        "\n",
        "\n",
        "from sklearn.feature_extraction.text import CountVectorizer, TfidfVectorizer\n",
        "from sklearn.linear_model import LogisticRegression\n",
        "from sklearn.metrics import roc_auc_score, f1_score, confusion_matrix\n",
        "from sklearn.model_selection import train_test_split"
      ]
    },
    {
      "cell_type": "code",
      "execution_count": null,
      "id": "06c0e110",
      "metadata": {
        "execution": {
          "iopub.execute_input": "2024-08-04T09:39:30.549460Z",
          "iopub.status.busy": "2024-08-04T09:39:30.549021Z",
          "iopub.status.idle": "2024-08-04T09:39:30.561260Z",
          "shell.execute_reply": "2024-08-04T09:39:30.560003Z"
        },
        "papermill": {
          "duration": 0.02676,
          "end_time": "2024-08-04T09:39:30.563691",
          "exception": false,
          "start_time": "2024-08-04T09:39:30.536931",
          "status": "completed"
        },
        "tags": [],
        "id": "06c0e110"
      },
      "outputs": [],
      "source": [
        "target_map ={\n",
        "\n",
        "    'Felicidad': 1,\n",
        "    'Atrevimiento': 1,\n",
        "    'Optimista': 2,\n",
        "    'Jugueton': 3,\n",
        "\n",
        "    'Empoderado': 2,\n",
        "    'Sorpresa': 4,\n",
        "    'Triunfo': 5,\n",
        "    'Confiado': 6,\n",
        "\n",
        "    'Paz': 3,\n",
        "    'Seguro': 7,\n",
        "    'Agradecido': 8,\n",
        "    'Enamorado': 9,\n",
        "    'Relajado': 10,\n",
        "    'Responsable': 11,\n",
        "\n",
        "    'Tristeza': 4,\n",
        "    'Adormilado': 12,\n",
        "    'Aislado': 13,\n",
        "    'Tomto ;B': 14,\n",
        "\n",
        "    'Furia': 5,\n",
        "    'Distante': 15,\n",
        "    'Frustrado': 16,\n",
        "    'Irritado': 17,\n",
        "    'Celoso': 18,\n",
        "\n",
        "    'Miedo': 6,\n",
        "    'Apenado': 19,\n",
        "     'Preocupado': 20,\n",
        "}\n",
        "\n",
        "classes = ['Atrevimiento', 'Optimista', 'Jugueton', 'Sorpresa', 'Triunfo', 'Confiado', 'Seguro', 'Agradecido', 'Enamorado', 'Relajado', 'Responsable', 'Adormilado', 'Aislado', 'Tomto ;B', 'Distante', 'Frustrado', 'Irritado', 'Celoso', 'Apenado', 'Preocupado']\n",
        "\n",
        "reversed_map = {value: sentiment for sentiment, value in target_map.items()}\n",
        "\n",
        "sentiments_map = {\n",
        "    'Atrevimiento': 'Felicidad',\n",
        "    'Optimista': 'Felicidad',\n",
        "    'Jugueton': 'Felicidad',\n",
        "\n",
        "    'Sorpresa': 'Empoderado',\n",
        "    'Triunfo': 'Empoderado',\n",
        "    'Confiado': 'Empoderado',\n",
        "\n",
        "    'Seguro': 'Paz',\n",
        "    'Agradecido': 'Paz',\n",
        "    'Enamorado': 'Paz',\n",
        "    'Relajado': 'Paz',\n",
        "    'Responsable': 'Paz',\n",
        "\n",
        "    'Adormilado': 'Tristeza',\n",
        "    'Aislado': 'Tristeza',\n",
        "    'Tomto ;B': 'Tristeza',\n",
        "\n",
        "\n",
        "    'Distante': 'Furia',\n",
        "    'Frustrado': 'Furia',\n",
        "    'Irritado': 'Furia',\n",
        "    'Celoso': 'Furia',\n",
        "\n",
        "    'Apenado': 'Miedo',\n",
        "     'Preocupado': 'Miedo',\n",
        "}\n",
        "\n",
        "\n"
      ]
    },
    {
      "cell_type": "code",
      "execution_count": null,
      "id": "269bf341",
      "metadata": {
        "execution": {
          "iopub.execute_input": "2024-08-04T09:39:30.586947Z",
          "iopub.status.busy": "2024-08-04T09:39:30.586492Z",
          "iopub.status.idle": "2024-08-04T09:39:30.604908Z",
          "shell.execute_reply": "2024-08-04T09:39:30.603640Z"
        },
        "papermill": {
          "duration": 0.03301,
          "end_time": "2024-08-04T09:39:30.607525",
          "exception": false,
          "start_time": "2024-08-04T09:39:30.574515",
          "status": "completed"
        },
        "tags": [],
        "id": "269bf341",
        "outputId": "42f95342-99d3-4ab0-fe01-a0c30e647fa6"
      },
      "outputs": [
        {
          "data": {
            "text/html": [
              "<div>\n",
              "<style scoped>\n",
              "    .dataframe tbody tr th:only-of-type {\n",
              "        vertical-align: middle;\n",
              "    }\n",
              "\n",
              "    .dataframe tbody tr th {\n",
              "        vertical-align: top;\n",
              "    }\n",
              "\n",
              "    .dataframe thead th {\n",
              "        text-align: right;\n",
              "    }\n",
              "</style>\n",
              "<table border=\"1\" class=\"dataframe\">\n",
              "  <thead>\n",
              "    <tr style=\"text-align: right;\">\n",
              "      <th></th>\n",
              "      <th>text</th>\n",
              "      <th>target</th>\n",
              "    </tr>\n",
              "  </thead>\n",
              "  <tbody>\n",
              "    <tr>\n",
              "      <th>0</th>\n",
              "      <td>termine bien abrumado después de hoy</td>\n",
              "      <td>20</td>\n",
              "    </tr>\n",
              "    <tr>\n",
              "      <th>1</th>\n",
              "      <td>me siento abrumado</td>\n",
              "      <td>20</td>\n",
              "    </tr>\n",
              "    <tr>\n",
              "      <th>2</th>\n",
              "      <td>Me siento un poco abrumado por la cantidad de ...</td>\n",
              "      <td>20</td>\n",
              "    </tr>\n",
              "    <tr>\n",
              "      <th>3</th>\n",
              "      <td>Salvador la única persona que no la ha abrumad...</td>\n",
              "      <td>20</td>\n",
              "    </tr>\n",
              "    <tr>\n",
              "      <th>4</th>\n",
              "      <td>Denme un helado o algo que ando full abrumado.</td>\n",
              "      <td>20</td>\n",
              "    </tr>\n",
              "  </tbody>\n",
              "</table>\n",
              "</div>"
            ],
            "text/plain": [
              "                                                text  target\n",
              "0               termine bien abrumado después de hoy      20\n",
              "1                                 me siento abrumado      20\n",
              "2  Me siento un poco abrumado por la cantidad de ...      20\n",
              "3  Salvador la única persona que no la ha abrumad...      20\n",
              "4     Denme un helado o algo que ando full abrumado.      20"
            ]
          },
          "execution_count": 8,
          "metadata": {},
          "output_type": "execute_result"
        }
      ],
      "source": [
        "sentiment_dataframe['emotion'] =  sentiment_dataframe['emotion'].map(target_map)\n",
        "dataframe = sentiment_dataframe[['text', 'emotion']].copy()\n",
        "dataframe.rename(columns = {'emotion': 'target'}, inplace = True)\n",
        "dataframe.head()"
      ]
    },
    {
      "cell_type": "code",
      "execution_count": null,
      "id": "46f4d18f",
      "metadata": {
        "execution": {
          "iopub.execute_input": "2024-08-04T09:39:30.631880Z",
          "iopub.status.busy": "2024-08-04T09:39:30.631411Z",
          "iopub.status.idle": "2024-08-04T09:39:30.639977Z",
          "shell.execute_reply": "2024-08-04T09:39:30.638485Z"
        },
        "papermill": {
          "duration": 0.024391,
          "end_time": "2024-08-04T09:39:30.642962",
          "exception": false,
          "start_time": "2024-08-04T09:39:30.618571",
          "status": "completed"
        },
        "tags": [],
        "id": "46f4d18f"
      },
      "outputs": [],
      "source": [
        "df_train, df_test = train_test_split(dataframe)"
      ]
    },
    {
      "cell_type": "code",
      "execution_count": null,
      "id": "03381f45",
      "metadata": {
        "execution": {
          "iopub.execute_input": "2024-08-04T09:39:30.668090Z",
          "iopub.status.busy": "2024-08-04T09:39:30.666928Z",
          "iopub.status.idle": "2024-08-04T09:39:30.678743Z",
          "shell.execute_reply": "2024-08-04T09:39:30.677346Z"
        },
        "papermill": {
          "duration": 0.027414,
          "end_time": "2024-08-04T09:39:30.681372",
          "exception": false,
          "start_time": "2024-08-04T09:39:30.653958",
          "status": "completed"
        },
        "tags": [],
        "id": "03381f45",
        "outputId": "acffff38-4985-46c9-b074-dc21775112c9"
      },
      "outputs": [
        {
          "data": {
            "text/html": [
              "<div>\n",
              "<style scoped>\n",
              "    .dataframe tbody tr th:only-of-type {\n",
              "        vertical-align: middle;\n",
              "    }\n",
              "\n",
              "    .dataframe tbody tr th {\n",
              "        vertical-align: top;\n",
              "    }\n",
              "\n",
              "    .dataframe thead th {\n",
              "        text-align: right;\n",
              "    }\n",
              "</style>\n",
              "<table border=\"1\" class=\"dataframe\">\n",
              "  <thead>\n",
              "    <tr style=\"text-align: right;\">\n",
              "      <th></th>\n",
              "      <th>text</th>\n",
              "      <th>target</th>\n",
              "    </tr>\n",
              "  </thead>\n",
              "  <tbody>\n",
              "    <tr>\n",
              "      <th>1473</th>\n",
              "      <td>Tengo unas ganas locas de ir a devoto</td>\n",
              "      <td>9</td>\n",
              "    </tr>\n",
              "    <tr>\n",
              "      <th>1012</th>\n",
              "      <td>Serían yo somnoliento diciéndole al despertado...</td>\n",
              "      <td>12</td>\n",
              "    </tr>\n",
              "    <tr>\n",
              "      <th>716</th>\n",
              "      <td>Estar 4hs desconectado de todo te hace re bien</td>\n",
              "      <td>15</td>\n",
              "    </tr>\n",
              "    <tr>\n",
              "      <th>724</th>\n",
              "      <td>&gt; Art. 144 Las Cortes Generales, mediante ley ...</td>\n",
              "      <td>15</td>\n",
              "    </tr>\n",
              "    <tr>\n",
              "      <th>1596</th>\n",
              "      <td>No puedo cambiar nada de lo que pasó, pero si ...</td>\n",
              "      <td>8</td>\n",
              "    </tr>\n",
              "  </tbody>\n",
              "</table>\n",
              "</div>"
            ],
            "text/plain": [
              "                                                   text  target\n",
              "1473              Tengo unas ganas locas de ir a devoto       9\n",
              "1012  Serían yo somnoliento diciéndole al despertado...      12\n",
              "716      Estar 4hs desconectado de todo te hace re bien      15\n",
              "724   > Art. 144 Las Cortes Generales, mediante ley ...      15\n",
              "1596  No puedo cambiar nada de lo que pasó, pero si ...       8"
            ]
          },
          "execution_count": 10,
          "metadata": {},
          "output_type": "execute_result"
        }
      ],
      "source": [
        "df_train.head()"
      ]
    },
    {
      "cell_type": "code",
      "execution_count": null,
      "id": "9849211e",
      "metadata": {
        "execution": {
          "iopub.execute_input": "2024-08-04T09:39:30.706498Z",
          "iopub.status.busy": "2024-08-04T09:39:30.706047Z",
          "iopub.status.idle": "2024-08-04T09:39:30.711649Z",
          "shell.execute_reply": "2024-08-04T09:39:30.710431Z"
        },
        "papermill": {
          "duration": 0.021603,
          "end_time": "2024-08-04T09:39:30.714396",
          "exception": false,
          "start_time": "2024-08-04T09:39:30.692793",
          "status": "completed"
        },
        "tags": [],
        "id": "9849211e"
      },
      "outputs": [],
      "source": [
        "vectorizer = TfidfVectorizer(max_features=2000)"
      ]
    },
    {
      "cell_type": "code",
      "execution_count": null,
      "id": "0f4bc1d4",
      "metadata": {
        "execution": {
          "iopub.execute_input": "2024-08-04T09:39:30.740147Z",
          "iopub.status.busy": "2024-08-04T09:39:30.738941Z",
          "iopub.status.idle": "2024-08-04T09:39:30.859287Z",
          "shell.execute_reply": "2024-08-04T09:39:30.858081Z"
        },
        "papermill": {
          "duration": 0.136007,
          "end_time": "2024-08-04T09:39:30.862076",
          "exception": false,
          "start_time": "2024-08-04T09:39:30.726069",
          "status": "completed"
        },
        "tags": [],
        "id": "0f4bc1d4",
        "outputId": "083288f9-6903-4dcd-b471-485c92c68b77"
      },
      "outputs": [
        {
          "data": {
            "text/plain": [
              "<1942x2000 sparse matrix of type '<class 'numpy.float64'>'\n",
              "\twith 29094 stored elements in Compressed Sparse Row format>"
            ]
          },
          "execution_count": 12,
          "metadata": {},
          "output_type": "execute_result"
        }
      ],
      "source": [
        "X_train = vectorizer.fit_transform(df_train['text'])\n",
        "X_train"
      ]
    },
    {
      "cell_type": "code",
      "execution_count": null,
      "id": "ef4fc175",
      "metadata": {
        "execution": {
          "iopub.execute_input": "2024-08-04T09:39:30.887325Z",
          "iopub.status.busy": "2024-08-04T09:39:30.886324Z",
          "iopub.status.idle": "2024-08-04T09:39:30.918170Z",
          "shell.execute_reply": "2024-08-04T09:39:30.917010Z"
        },
        "papermill": {
          "duration": 0.0473,
          "end_time": "2024-08-04T09:39:30.920786",
          "exception": false,
          "start_time": "2024-08-04T09:39:30.873486",
          "status": "completed"
        },
        "tags": [],
        "id": "ef4fc175"
      },
      "outputs": [],
      "source": [
        "X_test = vectorizer.transform(df_test['text'])"
      ]
    },
    {
      "cell_type": "code",
      "execution_count": null,
      "id": "66a32bbf",
      "metadata": {
        "execution": {
          "iopub.execute_input": "2024-08-04T09:39:30.945493Z",
          "iopub.status.busy": "2024-08-04T09:39:30.945067Z",
          "iopub.status.idle": "2024-08-04T09:39:30.950393Z",
          "shell.execute_reply": "2024-08-04T09:39:30.949236Z"
        },
        "papermill": {
          "duration": 0.020561,
          "end_time": "2024-08-04T09:39:30.952914",
          "exception": false,
          "start_time": "2024-08-04T09:39:30.932353",
          "status": "completed"
        },
        "tags": [],
        "id": "66a32bbf"
      },
      "outputs": [],
      "source": [
        "Y_train = df_train['target']\n",
        "Y_test = df_test['target']"
      ]
    },
    {
      "cell_type": "code",
      "execution_count": null,
      "id": "f9b7785c",
      "metadata": {
        "execution": {
          "iopub.execute_input": "2024-08-04T09:39:30.978744Z",
          "iopub.status.busy": "2024-08-04T09:39:30.977717Z",
          "iopub.status.idle": "2024-08-04T09:39:32.185654Z",
          "shell.execute_reply": "2024-08-04T09:39:32.183825Z"
        },
        "papermill": {
          "duration": 1.225153,
          "end_time": "2024-08-04T09:39:32.189871",
          "exception": false,
          "start_time": "2024-08-04T09:39:30.964718",
          "status": "completed"
        },
        "tags": [],
        "id": "f9b7785c",
        "outputId": "9d5bd9fc-c66b-4b55-a6d4-4f3f44367846"
      },
      "outputs": [
        {
          "name": "stdout",
          "output_type": "stream",
          "text": [
            "Train acc: 0.88259526261586\n",
            "Test acc: 0.5694444444444444\n"
          ]
        }
      ],
      "source": [
        "model = LogisticRegression(max_iter=500)\n",
        "model.fit(X_train, Y_train)\n",
        "print(\"Train acc:\", model.score(X_train, Y_train))\n",
        "print(\"Test acc:\", model.score(X_test, Y_test))"
      ]
    },
    {
      "cell_type": "code",
      "execution_count": null,
      "id": "6bd5999c",
      "metadata": {
        "execution": {
          "iopub.execute_input": "2024-08-04T09:39:32.274773Z",
          "iopub.status.busy": "2024-08-04T09:39:32.274042Z",
          "iopub.status.idle": "2024-08-04T09:39:32.283379Z",
          "shell.execute_reply": "2024-08-04T09:39:32.282266Z"
        },
        "papermill": {
          "duration": 0.059802,
          "end_time": "2024-08-04T09:39:32.286239",
          "exception": false,
          "start_time": "2024-08-04T09:39:32.226437",
          "status": "completed"
        },
        "tags": [],
        "id": "6bd5999c"
      },
      "outputs": [],
      "source": [
        "from sklearn.naive_bayes import GaussianNB,MultinomialNB,BernoulliNB\n",
        "from sklearn.metrics import accuracy_score,confusion_matrix,precision_score\n"
      ]
    },
    {
      "cell_type": "code",
      "execution_count": null,
      "id": "c0e59441",
      "metadata": {
        "execution": {
          "iopub.execute_input": "2024-08-04T09:39:32.312376Z",
          "iopub.status.busy": "2024-08-04T09:39:32.311962Z",
          "iopub.status.idle": "2024-08-04T09:39:32.318158Z",
          "shell.execute_reply": "2024-08-04T09:39:32.316470Z"
        },
        "papermill": {
          "duration": 0.022792,
          "end_time": "2024-08-04T09:39:32.320730",
          "exception": false,
          "start_time": "2024-08-04T09:39:32.297938",
          "status": "completed"
        },
        "tags": [],
        "id": "c0e59441"
      },
      "outputs": [],
      "source": [
        "gnb = GaussianNB()\n",
        "mnb = MultinomialNB()\n",
        "bnb = BernoulliNB()"
      ]
    },
    {
      "cell_type": "code",
      "execution_count": null,
      "id": "91380aae",
      "metadata": {
        "execution": {
          "iopub.execute_input": "2024-08-04T09:39:32.345690Z",
          "iopub.status.busy": "2024-08-04T09:39:32.344920Z",
          "iopub.status.idle": "2024-08-04T09:39:33.480072Z",
          "shell.execute_reply": "2024-08-04T09:39:33.478706Z"
        },
        "papermill": {
          "duration": 1.150469,
          "end_time": "2024-08-04T09:39:33.482624",
          "exception": false,
          "start_time": "2024-08-04T09:39:32.332155",
          "status": "completed"
        },
        "tags": [],
        "id": "91380aae",
        "outputId": "4aa27c1d-4a11-4294-cb27-ac79a6ccc9ae"
      },
      "outputs": [
        {
          "name": "stdout",
          "output_type": "stream",
          "text": [
            "Train acc (MultinomialNB): 0.8805355303810505\n",
            "Test acc (MultinomialNB): 0.3395061728395062\n"
          ]
        }
      ],
      "source": [
        "\n",
        "import numpy as np\n",
        "\n",
        "# Convert sparse matrices to dense\n",
        "X_train_dense = X_train.toarray()\n",
        "X_test_dense = X_test.toarray()\n",
        "\n",
        "\n",
        "\n",
        "# Fit models\n",
        "gnb.fit(X_train_dense, Y_train)\n",
        "mnb.fit(X_train_dense, Y_train)\n",
        "bnb.fit(X_train_dense, Y_train)\n",
        "\n",
        "# Make predictions\n",
        "y_pred1 = gnb.predict(X_test_dense)\n",
        "\n",
        "# Print accuracies\n",
        "print(\"Train acc (MultinomialNB):\", gnb.score(X_train_dense, Y_train))\n",
        "print(\"Test acc (MultinomialNB):\", gnb.score(X_test_dense, Y_test))\n",
        "\n",
        "\n"
      ]
    },
    {
      "cell_type": "code",
      "execution_count": null,
      "id": "bc5a5c29",
      "metadata": {
        "execution": {
          "iopub.execute_input": "2024-08-04T09:39:33.508800Z",
          "iopub.status.busy": "2024-08-04T09:39:33.508361Z",
          "iopub.status.idle": "2024-08-04T09:39:33.546464Z",
          "shell.execute_reply": "2024-08-04T09:39:33.544913Z"
        },
        "papermill": {
          "duration": 0.056666,
          "end_time": "2024-08-04T09:39:33.550908",
          "exception": false,
          "start_time": "2024-08-04T09:39:33.494242",
          "status": "completed"
        },
        "tags": [],
        "id": "bc5a5c29",
        "outputId": "4245380e-f462-4ca3-896b-37834c5a2f15"
      },
      "outputs": [
        {
          "name": "stdout",
          "output_type": "stream",
          "text": [
            "Train acc (GaussianNB): 0.8228630278063852\n",
            "Test acc (GaussianNB): 0.39969135802469136\n"
          ]
        }
      ],
      "source": [
        "# Make predictions\n",
        "y_pred1 = mnb.predict(X_test_dense)\n",
        "\n",
        "# Print accuracies\n",
        "print(\"Train acc (GaussianNB):\", mnb.score(X_train_dense, Y_train))\n",
        "print(\"Test acc (GaussianNB):\", mnb.score(X_test_dense, Y_test))"
      ]
    },
    {
      "cell_type": "code",
      "execution_count": null,
      "id": "0fa84e7c",
      "metadata": {
        "execution": {
          "iopub.execute_input": "2024-08-04T09:39:33.603166Z",
          "iopub.status.busy": "2024-08-04T09:39:33.602440Z",
          "iopub.status.idle": "2024-08-04T09:39:33.721669Z",
          "shell.execute_reply": "2024-08-04T09:39:33.720084Z"
        },
        "papermill": {
          "duration": 0.150003,
          "end_time": "2024-08-04T09:39:33.725804",
          "exception": false,
          "start_time": "2024-08-04T09:39:33.575801",
          "status": "completed"
        },
        "tags": [],
        "id": "0fa84e7c",
        "outputId": "84a86fc3-b8bc-4f35-e37c-cb11cc1a61e9"
      },
      "outputs": [
        {
          "name": "stdout",
          "output_type": "stream",
          "text": [
            "Train acc (bernouliNB): 0.7085478887744593\n",
            "Test acc (bernouliNB): 0.28858024691358025\n"
          ]
        }
      ],
      "source": [
        "# Make predictions\n",
        "y_pred1 = bnb.predict(X_test_dense)\n",
        "\n",
        "# Print accuracies\n",
        "print(\"Train acc (bernouliNB):\", bnb.score(X_train_dense, Y_train))\n",
        "print(\"Test acc (bernouliNB):\", bnb.score(X_test_dense, Y_test))"
      ]
    },
    {
      "cell_type": "markdown",
      "id": "93f8fb8d",
      "metadata": {
        "papermill": {
          "duration": 0.025507,
          "end_time": "2024-08-04T09:39:33.775514",
          "exception": false,
          "start_time": "2024-08-04T09:39:33.750007",
          "status": "completed"
        },
        "tags": [],
        "id": "93f8fb8d"
      },
      "source": [
        "## Metrics"
      ]
    },
    {
      "cell_type": "code",
      "execution_count": null,
      "id": "8016ba55",
      "metadata": {
        "execution": {
          "iopub.execute_input": "2024-08-04T09:39:33.828599Z",
          "iopub.status.busy": "2024-08-04T09:39:33.827847Z",
          "iopub.status.idle": "2024-08-04T09:39:34.418241Z",
          "shell.execute_reply": "2024-08-04T09:39:34.416599Z"
        },
        "papermill": {
          "duration": 0.61931,
          "end_time": "2024-08-04T09:39:34.420643",
          "exception": true,
          "start_time": "2024-08-04T09:39:33.801333",
          "status": "failed"
        },
        "tags": [],
        "id": "8016ba55",
        "outputId": "3f0674c1-52d8-4760-a1ec-2c6ac4223177"
      },
      "outputs": [
        {
          "ename": "NameError",
          "evalue": "name 'P_train' is not defined",
          "output_type": "error",
          "traceback": [
            "\u001b[0;31m---------------------------------------------------------------------------\u001b[0m",
            "\u001b[0;31mNameError\u001b[0m                                 Traceback (most recent call last)",
            "Cell \u001b[0;32mIn[21], line 1\u001b[0m\n\u001b[0;32m----> 1\u001b[0m cm \u001b[38;5;241m=\u001b[39m confusion_matrix(Y_train, \u001b[43mP_train\u001b[49m, normalize\u001b[38;5;241m=\u001b[39m\u001b[38;5;124m'\u001b[39m\u001b[38;5;124mtrue\u001b[39m\u001b[38;5;124m'\u001b[39m)\n\u001b[1;32m      2\u001b[0m cm\n",
            "\u001b[0;31mNameError\u001b[0m: name 'P_train' is not defined"
          ]
        }
      ],
      "source": [
        "cm = confusion_matrix(Y_train, P_train, normalize='true')\n",
        "cm"
      ]
    },
    {
      "cell_type": "code",
      "execution_count": null,
      "id": "52a236e1",
      "metadata": {
        "papermill": {
          "duration": null,
          "end_time": null,
          "exception": null,
          "start_time": null,
          "status": "pending"
        },
        "tags": [],
        "id": "52a236e1"
      },
      "outputs": [],
      "source": [
        "# Scikit-Learn is transitioning to V1 but it's not available on Colab\n",
        "# The changes modify how confusion matrices are plotted\n",
        "def plot_cm(cm, classes):\n",
        "  df_cm = pd.DataFrame(cm, index=classes, columns=classes).round(2)\n",
        "  ax = sn.heatmap(df_cm, annot=True, fmt='g')\n",
        "  ax.set_xlabel(\"Predicted\")\n",
        "  ax.set_ylabel(\"Target\")\n",
        "\n",
        "plt.figure(figsize=(12, 10))\n",
        "plot_cm(cm, classes)"
      ]
    },
    {
      "cell_type": "code",
      "execution_count": null,
      "id": "27f26a1a",
      "metadata": {
        "papermill": {
          "duration": null,
          "end_time": null,
          "exception": null,
          "start_time": null,
          "status": "pending"
        },
        "tags": [],
        "id": "27f26a1a"
      },
      "outputs": [],
      "source": [
        "cm_test = confusion_matrix(Y_test, P_test, normalize='true')\n",
        "\n",
        "plt.figure(figsize=(12, 10))\n",
        "plot_cm(cm_test, classes)"
      ]
    },
    {
      "cell_type": "code",
      "execution_count": null,
      "id": "235832f6",
      "metadata": {
        "papermill": {
          "duration": null,
          "end_time": null,
          "exception": null,
          "start_time": null,
          "status": "pending"
        },
        "tags": [],
        "id": "235832f6"
      },
      "outputs": [],
      "source": []
    },
    {
      "cell_type": "markdown",
      "id": "23a6a81b",
      "metadata": {
        "papermill": {
          "duration": null,
          "end_time": null,
          "exception": null,
          "start_time": null,
          "status": "pending"
        },
        "tags": [],
        "id": "23a6a81b"
      },
      "source": [
        "## Saving model"
      ]
    },
    {
      "cell_type": "code",
      "execution_count": null,
      "id": "2fc3340a",
      "metadata": {
        "papermill": {
          "duration": null,
          "end_time": null,
          "exception": null,
          "start_time": null,
          "status": "pending"
        },
        "tags": [],
        "id": "2fc3340a"
      },
      "outputs": [],
      "source": [
        "import pickle\n",
        "\n",
        "# save the iris classification model as a pickle file\n",
        "model_pkl_file = \"sentiment_analysis_classifier.pkl\"\n",
        "\n",
        "with open(model_pkl_file, 'wb') as file:\n",
        "    pickle.dump(model, file)"
      ]
    },
    {
      "cell_type": "code",
      "execution_count": null,
      "id": "7bba85d5",
      "metadata": {
        "papermill": {
          "duration": null,
          "end_time": null,
          "exception": null,
          "start_time": null,
          "status": "pending"
        },
        "tags": [],
        "id": "7bba85d5"
      },
      "outputs": [],
      "source": []
    },
    {
      "cell_type": "code",
      "execution_count": null,
      "id": "93688de4",
      "metadata": {
        "papermill": {
          "duration": null,
          "end_time": null,
          "exception": null,
          "start_time": null,
          "status": "pending"
        },
        "tags": [],
        "id": "93688de4"
      },
      "outputs": [],
      "source": []
    },
    {
      "cell_type": "code",
      "execution_count": null,
      "id": "2991f44b",
      "metadata": {
        "papermill": {
          "duration": null,
          "end_time": null,
          "exception": null,
          "start_time": null,
          "status": "pending"
        },
        "tags": [],
        "id": "2991f44b"
      },
      "outputs": [],
      "source": []
    }
  ],
  "metadata": {
    "kaggle": {
      "accelerator": "none",
      "dataSources": [
        {
          "datasetId": 4288945,
          "sourceId": 7380267,
          "sourceType": "datasetVersion"
        }
      ],
      "dockerImageVersionId": 30635,
      "isGpuEnabled": false,
      "isInternetEnabled": true,
      "language": "python",
      "sourceType": "notebook"
    },
    "kernelspec": {
      "display_name": "Python 3",
      "language": "python",
      "name": "python3"
    },
    "language_info": {
      "codemirror_mode": {
        "name": "ipython",
        "version": 3
      },
      "file_extension": ".py",
      "mimetype": "text/x-python",
      "name": "python",
      "nbconvert_exporter": "python",
      "pygments_lexer": "ipython3",
      "version": "3.10.12"
    },
    "papermill": {
      "default_parameters": {},
      "duration": 12.36095,
      "end_time": "2024-08-04T09:39:35.154721",
      "environment_variables": {},
      "exception": true,
      "input_path": "__notebook__.ipynb",
      "output_path": "__notebook__.ipynb",
      "parameters": {},
      "start_time": "2024-08-04T09:39:22.793771",
      "version": "2.4.0"
    },
    "colab": {
      "provenance": [],
      "include_colab_link": true
    }
  },
  "nbformat": 4,
  "nbformat_minor": 5
}